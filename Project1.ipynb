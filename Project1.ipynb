{
 "cells": [
  {
   "cell_type": "markdown",
   "metadata": {},
   "source": [
    "# Traffic Sign Identification using Deep Neural Networks"
   ]
  },
  {
   "cell_type": "markdown",
   "metadata": {},
   "source": [
    "## Description\n",
    "Lorem Ipsum"
   ]
  },
  {
   "cell_type": "markdown",
   "metadata": {},
   "source": [
    "## Setup and Image Preprocessing\n",
    "\n",
    "### Imports"
   ]
  },
  {
   "cell_type": "code",
   "execution_count": 11,
   "metadata": {},
   "outputs": [],
   "source": [
    "import cv2\n",
    "import pickle\n",
    "import csv\n",
    "from skimage import exposure"
   ]
  },
  {
   "cell_type": "markdown",
   "metadata": {},
   "source": [
    "### Preprocessing Function\n",
    "Preprocesses images according to passed parameters."
   ]
  },
  {
   "cell_type": "code",
   "execution_count": 12,
   "metadata": {},
   "outputs": [],
   "source": [
    "def preprocess_images(file_name, grayscale = False, normalize = False, contrast = False):\n",
    "    path = './Dataset/'   # Change this for the path corresponding to your base Dataset directory\n",
    "\n",
    "    img_infos = {'labels':[],'images':[]}\n",
    "\n",
    "    with open(path+file_name,\"r\") as csv_file:\n",
    "        reader = csv.reader(csv_file, delimiter=',', quotechar='|')\n",
    "        next(reader)\n",
    "        \n",
    "        for row in reader:\n",
    "\n",
    "            img = cv2.imread(path+row[-1], cv2.IMREAD_UNCHANGED) \n",
    "            \n",
    "            if grayscale:\n",
    "                img = cv2.cvtColor(img, cv2.COLOR_BGR2GRAY) #Convert image to Grayscale\n",
    "            \n",
    "            if contrast:\n",
    "                img = cv2.addWeighted(img, 1.2, img, 0, 0) #Increase contrast\n",
    "\n",
    "            if normalize:\n",
    "                #cv2.normalize(img, img, 0, 255, cv2.NORM_MINMAX) #Normalize\n",
    "                img = exposure.equalize_adapthist(img, clip_limit=0.03)\n",
    "\n",
    "            img = cv2.resize(img, (32,32),interpolation = cv2.INTER_AREA) #Resize the image to 32x32\n",
    "            \n",
    "            img_infos['images'].append(img) #Save Image pixels\n",
    "            img_infos['labels'].append(row[-2]) #Save image Label\n",
    "            \n",
    "    return img_infos"
   ]
  },
  {
   "cell_type": "markdown",
   "metadata": {},
   "source": [
    "### Save treated data as Pickle\n",
    "Saves the treated data into Pickle files"
   ]
  },
  {
   "cell_type": "code",
   "execution_count": 13,
   "metadata": {},
   "outputs": [
    {
     "name": "stdout",
     "output_type": "stream",
     "text": [
      "> Finished writing tests\n",
      "> Finished writing train\n"
     ]
    }
   ],
   "source": [
    "# RGB\n",
    "test_rgb = preprocess_images(\"Test.csv\")\n",
    "train_rgb = preprocess_images(\"Train.csv\")\n",
    "\n",
    "with open(\"./Dataset/PickledData/Test_rgb.p\", 'wb') as pickle_rick:\n",
    "    pickle.dump(test_rgb,pickle_rick)    \n",
    "print(\"> Finished writing tests\")\n",
    "\n",
    "with open(\"./Dataset/PickledData/Train_rgb.p\", 'wb') as pickle_rick:\n",
    "    pickle.dump(train_rgb,pickle_rick)\n",
    "print(\"> Finished writing train\")"
   ]
  },
  {
   "cell_type": "markdown",
   "metadata": {},
   "source": [
    "## Neural Network\n",
    "\n",
    "### Step 0 - Imports"
   ]
  },
  {
   "cell_type": "code",
   "execution_count": 14,
   "metadata": {},
   "outputs": [],
   "source": [
    "import random\n",
    "import numpy as np\n",
    "import pickle\n",
    "\n",
    "import tensorflow as tf\n",
    "from tensorflow import keras\n",
    "\n",
    "from sklearn.utils import shuffle\n",
    "from sklearn.metrics import confusion_matrix\n",
    "\n",
    "import seaborn as sn\n",
    "import pandas as pd\n",
    "import matplotlib.pyplot as plt\n",
    "%matplotlib inline"
   ]
  },
  {
   "cell_type": "markdown",
   "metadata": {},
   "source": [
    "### Step 1 - Get the data into the sets"
   ]
  },
  {
   "cell_type": "code",
   "execution_count": 15,
   "metadata": {},
   "outputs": [],
   "source": [
    "def create_cv_random(x_train, y_train):\n",
    "    # Get the cross validation set\n",
    "    x_cv = []\n",
    "    y_cv = []\n",
    "    for i in range(int(0.2*len(x_train))): # Randomly move 20% of the training examples into the cross-validation set\n",
    "        index = random.randint(0, len(x_train)-1)\n",
    "        x_cv.append(x_train.pop(index))\n",
    "        y_cv.append(y_train.pop(index))\n",
    "        \n",
    "    return x_cv, y_cv\n",
    "\n",
    "def create_cv_equitative(x_train, y_train):\n",
    "    label_dic = {}\n",
    "    for i in range(43):\n",
    "        label_dic[str(i)] = []\n",
    "    \n",
    "    for i in range(len(y_train)):\n",
    "        label_dic[str(y_train[i])].append(x_train[i])\n",
    "    \n",
    "    x_cv = []\n",
    "    y_cv = []\n",
    "    for label in label_dic:\n",
    "        for i in range(int(0.2*len(label_dic[label]))):\n",
    "            index = random.randint(0, len(label_dic[label]) -1)\n",
    "            y_cv.append(int(label))\n",
    "            x_cv.append(label_dic[label].pop(index))\n",
    "        \n",
    "    return shuffle(x_cv, y_cv)\n",
    "\n",
    "def open_set(path_test, path_train, gray = False, cv_random = True):\n",
    "\n",
    "    with open(path_test, \"rb\") as f:\n",
    "        test = pickle.load(f)\n",
    "    with open(path_train, \"rb\") as f:\n",
    "        train = pickle.load(f)\n",
    "\n",
    "    # Get the training set\n",
    "    x_train, y_train = train['images'], train['labels']\n",
    "\n",
    "    # Get the cross validation set\n",
    "    if cv_random:\n",
    "        x_cv, y_cv = create_cv_random(x_train, y_train)\n",
    "    else:\n",
    "        x_cv, y_cv = create_cv_equitative(x_train, y_train)\n",
    "\n",
    "    # Get the test set\n",
    "    x_test, y_test = test['images'], test['labels']\n",
    "\n",
    "    # Convert all our sets into numPy Arrays\n",
    "    if gray:\n",
    "        x_train = np.array(x_train).reshape((len(x_train), 32, 32, 1))\n",
    "        y_train = keras.utils.to_categorical(np.array(y_train))\n",
    "\n",
    "        x_cv = np.array(x_cv).reshape((len(x_cv), 32, 32, 1))\n",
    "        y_cv = keras.utils.to_categorical(np.array(y_cv))\n",
    "\n",
    "        x_test = np.array(x_test).reshape((len(x_test), 32, 32, 1))\n",
    "        y_test = keras.utils.to_categorical(np.array(y_test))\n",
    "    else:\n",
    "        x_train = np.array(x_train).reshape((len(x_train), 32, 32, 3))\n",
    "        y_train = keras.utils.to_categorical(np.array(y_train))\n",
    "\n",
    "        x_cv = np.array(x_cv).reshape((len(x_cv), 32, 32, 3))\n",
    "        y_cv = keras.utils.to_categorical(np.array(y_cv))\n",
    "\n",
    "        x_test = np.array(x_test).reshape((len(x_test), 32, 32, 3))\n",
    "        y_test = keras.utils.to_categorical(np.array(y_test))\n",
    "    \n",
    "    return x_test, y_test, x_train, y_train, x_cv, y_cv"
   ]
  },
  {
   "cell_type": "code",
   "execution_count": 321,
   "metadata": {},
   "outputs": [],
   "source": [
    "x_test, y_test, x_train, y_train, x_cv, y_cv = open_set(\"./Dataset/PickledData/Test_rgb.p\", \"./Dataset/PickledData/Train_rgb.p\", cv_random=False)"
   ]
  },
  {
   "cell_type": "markdown",
   "metadata": {},
   "source": [
    "### Step 2 - Treat the data (Normalize and Shuffle)"
   ]
  },
  {
   "cell_type": "code",
   "execution_count": 19,
   "metadata": {},
   "outputs": [],
   "source": [
    "# Shuffle the training set\n",
    "x_train, y_train = shuffle(x_train, y_train)"
   ]
  },
  {
   "cell_type": "markdown",
   "metadata": {},
   "source": [
    "### Step 3 - Define constants"
   ]
  },
  {
   "cell_type": "code",
   "execution_count": 20,
   "metadata": {},
   "outputs": [],
   "source": [
    "EPOCHS = 50\n",
    "BATCH_SIZE = 200\n",
    "LOSS = keras.losses.categorical_crossentropy\n",
    "OPT = keras.optimizers.Adam\n",
    "LEARNING_RATE = 0.002 # Define the learning rate to be used by our optimizer\n"
   ]
  },
  {
   "cell_type": "markdown",
   "metadata": {},
   "source": [
    "### Step 4 - Define the Neural Network"
   ]
  },
  {
   "cell_type": "code",
   "execution_count": 21,
   "metadata": {},
   "outputs": [],
   "source": [
    "def LeNetModel(no_output=6, rgb=True, dropout=0):\n",
    "    input_shape = (32,32,3) if rgb else (32,32,1) # Define the image's size\n",
    "    \n",
    "    model = keras.Sequential() # Define the Keras Model\n",
    "    \n",
    "    # First Layer - Convolutional ; Input = 32x32x3 for RGB , 32x32x1 for GrayScale ; Output = 28x28x6\n",
    "    model.add(keras.layers.Conv2D(\n",
    "                filters=no_output, kernel_size=(3, 3),\n",
    "                activation='relu', input_shape=input_shape\n",
    "                )\n",
    "             )\n",
    "    \n",
    "    # Second Layer - Subsampling (Average Pooling) ; Input = 28x28x6 ; Output = 14x14x6\n",
    "    model.add(keras.layers.AveragePooling2D())\n",
    "    \n",
    "    # Third Layer - Convolutional ; Input = 14x14x6 ; Output = 10x10x16\n",
    "    model.add(keras.layers.Conv2D(\n",
    "                    filters=16, kernel_size=(3, 3),\n",
    "                    activation='relu'\n",
    "                    )\n",
    "                 )\n",
    "    \n",
    "    # Fourth Layer - Subsampling (Average Pooling) ; Input = 10x10x16 ; Output = 5x5x16\n",
    "    model.add(keras.layers.AveragePooling2D())\n",
    "    \n",
    "    model.add(keras.layers.Flatten()) # Flatten the last layer's output to pass it to the Fully Connected layers\n",
    "    \n",
    "    # Fifth Layer - Fully Connected ; Input = 5x5x16 ; Output = 120x1\n",
    "    model.add(keras.layers.Dense(units=120, activation='relu'))\n",
    "\n",
    "    # Sixth Layer - Fully Connected ; Input = 120x1 ; Output = 84x1\n",
    "    model.add(keras.layers.Dense(units=84, activation='relu'))\n",
    "    \n",
    "    model.add(keras.layers.Dropout(dropout))\n",
    "    \n",
    "    # Output Layer - Output = 43x1\n",
    "    model.add(keras.layers.Dense(units=43, activation = 'softmax'))\n",
    "    \n",
    "    return model"
   ]
  },
  {
   "cell_type": "markdown",
   "metadata": {},
   "source": [
    "### Step 5 - Create the model and define evaluation"
   ]
  },
  {
   "cell_type": "code",
   "execution_count": 22,
   "metadata": {},
   "outputs": [],
   "source": [
    "model = LeNetModel()\n",
    "\n",
    "model.compile(loss=LOSS,\n",
    "              optimizer=OPT(learning_rate=LEARNING_RATE),\n",
    "              metrics=['accuracy'])"
   ]
  },
  {
   "cell_type": "markdown",
   "metadata": {},
   "source": [
    "### Step 6 - Insert the training set"
   ]
  },
  {
   "cell_type": "code",
   "execution_count": 23,
   "metadata": {},
   "outputs": [
    {
     "name": "stdout",
     "output_type": "stream",
     "text": [
      "Train on 31368 samples, validate on 7841 samples\n",
      "Epoch 1/50\n",
      "31368/31368 [==============================] - 15s 484us/sample - loss: 3.4477 - accuracy: 0.4674 - val_loss: 0.7660 - val_accuracy: 0.7812\n",
      "Epoch 2/50\n",
      "31368/31368 [==============================] - 14s 435us/sample - loss: 0.5075 - accuracy: 0.8548 - val_loss: 0.4006 - val_accuracy: 0.8878\n",
      "Epoch 3/50\n",
      "31368/31368 [==============================] - 15s 463us/sample - loss: 0.2843 - accuracy: 0.9217 - val_loss: 0.3477 - val_accuracy: 0.9093\n",
      "Epoch 4/50\n",
      "31368/31368 [==============================] - 16s 496us/sample - loss: 0.1882 - accuracy: 0.9477 - val_loss: 0.2719 - val_accuracy: 0.9285\n",
      "Epoch 5/50\n",
      "31368/31368 [==============================] - 15s 481us/sample - loss: 0.1462 - accuracy: 0.9583 - val_loss: 0.2204 - val_accuracy: 0.9472\n",
      "Epoch 6/50\n",
      "31368/31368 [==============================] - 15s 466us/sample - loss: 0.1148 - accuracy: 0.9678 - val_loss: 0.3686 - val_accuracy: 0.9309\n",
      "Epoch 7/50\n",
      "31368/31368 [==============================] - 14s 459us/sample - loss: 0.1012 - accuracy: 0.9720 - val_loss: 0.1631 - val_accuracy: 0.9621\n",
      "Epoch 8/50\n",
      "31368/31368 [==============================] - 15s 467us/sample - loss: 0.0800 - accuracy: 0.9776 - val_loss: 0.1914 - val_accuracy: 0.9569\n",
      "Epoch 9/50\n",
      "31368/31368 [==============================] - 16s 508us/sample - loss: 0.0746 - accuracy: 0.9783 - val_loss: 0.1789 - val_accuracy: 0.9628\n",
      "Epoch 10/50\n",
      "31368/31368 [==============================] - 16s 501us/sample - loss: 0.0679 - accuracy: 0.9805 - val_loss: 0.1827 - val_accuracy: 0.9616\n",
      "Epoch 11/50\n",
      "31368/31368 [==============================] - 14s 458us/sample - loss: 0.0587 - accuracy: 0.9840 - val_loss: 0.1650 - val_accuracy: 0.9648\n",
      "Epoch 12/50\n",
      "31368/31368 [==============================] - 15s 470us/sample - loss: 0.0489 - accuracy: 0.9856 - val_loss: 0.1762 - val_accuracy: 0.9617\n",
      "Epoch 13/50\n",
      "31368/31368 [==============================] - 15s 476us/sample - loss: 0.0565 - accuracy: 0.9839 - val_loss: 0.1896 - val_accuracy: 0.9582\n",
      "Epoch 14/50\n",
      "31368/31368 [==============================] - 16s 495us/sample - loss: 0.0581 - accuracy: 0.9835 - val_loss: 0.1760 - val_accuracy: 0.9670\n",
      "Epoch 15/50\n",
      "31368/31368 [==============================] - 15s 467us/sample - loss: 0.0510 - accuracy: 0.9857 - val_loss: 0.1483 - val_accuracy: 0.9676\n",
      "Epoch 16/50\n",
      "31368/31368 [==============================] - 15s 492us/sample - loss: 0.0336 - accuracy: 0.9906 - val_loss: 0.1871 - val_accuracy: 0.9648\n",
      "Epoch 17/50\n",
      "31368/31368 [==============================] - 16s 503us/sample - loss: 0.0286 - accuracy: 0.9920 - val_loss: 0.1530 - val_accuracy: 0.9732\n",
      "Epoch 18/50\n",
      "31368/31368 [==============================] - 16s 502us/sample - loss: 0.0503 - accuracy: 0.9865 - val_loss: 0.1965 - val_accuracy: 0.9639\n",
      "Epoch 19/50\n",
      "31368/31368 [==============================] - 16s 505us/sample - loss: 0.0416 - accuracy: 0.9879 - val_loss: 0.1648 - val_accuracy: 0.9703\n",
      "Epoch 20/50\n",
      "31368/31368 [==============================] - 15s 469us/sample - loss: 0.0341 - accuracy: 0.9901 - val_loss: 0.1589 - val_accuracy: 0.9699\n",
      "Epoch 21/50\n",
      "31368/31368 [==============================] - 16s 497us/sample - loss: 0.0364 - accuracy: 0.9893 - val_loss: 0.1562 - val_accuracy: 0.9731\n",
      "Epoch 22/50\n",
      "31368/31368 [==============================] - 16s 516us/sample - loss: 0.0310 - accuracy: 0.9904 - val_loss: 0.1631 - val_accuracy: 0.9774\n",
      "Epoch 23/50\n",
      "31368/31368 [==============================] - 17s 528us/sample - loss: 0.0293 - accuracy: 0.9911 - val_loss: 0.1603 - val_accuracy: 0.9753\n",
      "Epoch 24/50\n",
      "31368/31368 [==============================] - 15s 465us/sample - loss: 0.0249 - accuracy: 0.9926 - val_loss: 0.1854 - val_accuracy: 0.9712\n",
      "Epoch 25/50\n",
      "31368/31368 [==============================] - 15s 488us/sample - loss: 0.0619 - accuracy: 0.9829 - val_loss: 0.2609 - val_accuracy: 0.9520\n",
      "Epoch 26/50\n",
      "31368/31368 [==============================] - 15s 475us/sample - loss: 0.0384 - accuracy: 0.9894 - val_loss: 0.1752 - val_accuracy: 0.9772\n",
      "Epoch 27/50\n",
      "31368/31368 [==============================] - 15s 475us/sample - loss: 0.0163 - accuracy: 0.9953 - val_loss: 0.1727 - val_accuracy: 0.9740\n",
      "Epoch 28/50\n",
      "31368/31368 [==============================] - 16s 510us/sample - loss: 0.0243 - accuracy: 0.9931 - val_loss: 0.1749 - val_accuracy: 0.9790\n",
      "Epoch 29/50\n",
      "31368/31368 [==============================] - 16s 518us/sample - loss: 0.0284 - accuracy: 0.9921 - val_loss: 0.1674 - val_accuracy: 0.9712\n",
      "Epoch 30/50\n",
      "31368/31368 [==============================] - 15s 469us/sample - loss: 0.0427 - accuracy: 0.9880 - val_loss: 0.1471 - val_accuracy: 0.9727\n",
      "Epoch 31/50\n",
      "31368/31368 [==============================] - 16s 499us/sample - loss: 0.0316 - accuracy: 0.9913 - val_loss: 0.1598 - val_accuracy: 0.9746\n",
      "Epoch 32/50\n",
      "31368/31368 [==============================] - 17s 531us/sample - loss: 0.0415 - accuracy: 0.9900 - val_loss: 0.1832 - val_accuracy: 0.9680\n",
      "Epoch 33/50\n",
      "31368/31368 [==============================] - 15s 494us/sample - loss: 0.0378 - accuracy: 0.9899 - val_loss: 0.1423 - val_accuracy: 0.9788\n",
      "Epoch 34/50\n",
      "31368/31368 [==============================] - 15s 487us/sample - loss: 0.0333 - accuracy: 0.9917 - val_loss: 0.1541 - val_accuracy: 0.9763\n",
      "Epoch 35/50\n",
      "31368/31368 [==============================] - 15s 476us/sample - loss: 0.0197 - accuracy: 0.9943 - val_loss: 0.1306 - val_accuracy: 0.9805\n",
      "Epoch 36/50\n",
      "31368/31368 [==============================] - 16s 510us/sample - loss: 0.0250 - accuracy: 0.9928 - val_loss: 0.2046 - val_accuracy: 0.9698\n",
      "Epoch 37/50\n",
      "31368/31368 [==============================] - 15s 490us/sample - loss: 0.0425 - accuracy: 0.9897 - val_loss: 0.2785 - val_accuracy: 0.9526\n",
      "Epoch 38/50\n",
      "31368/31368 [==============================] - 15s 476us/sample - loss: 0.0410 - accuracy: 0.9889 - val_loss: 0.1643 - val_accuracy: 0.9770\n",
      "Epoch 39/50\n",
      "31368/31368 [==============================] - 15s 481us/sample - loss: 0.0222 - accuracy: 0.9943 - val_loss: 0.1489 - val_accuracy: 0.9793\n",
      "Epoch 40/50\n",
      "31368/31368 [==============================] - 15s 479us/sample - loss: 0.0206 - accuracy: 0.9942 - val_loss: 0.1592 - val_accuracy: 0.9772\n",
      "Epoch 41/50\n",
      "31368/31368 [==============================] - 16s 509us/sample - loss: 0.0214 - accuracy: 0.9942 - val_loss: 0.1814 - val_accuracy: 0.9783\n",
      "Epoch 42/50\n",
      "31368/31368 [==============================] - 15s 473us/sample - loss: 0.0222 - accuracy: 0.9945 - val_loss: 0.1866 - val_accuracy: 0.9741\n",
      "Epoch 43/50\n",
      "31368/31368 [==============================] - 15s 493us/sample - loss: 0.0233 - accuracy: 0.9939 - val_loss: 0.1914 - val_accuracy: 0.9772\n",
      "Epoch 44/50\n",
      "31368/31368 [==============================] - 15s 485us/sample - loss: 0.0442 - accuracy: 0.9894 - val_loss: 0.1742 - val_accuracy: 0.9781\n",
      "Epoch 45/50\n",
      "31368/31368 [==============================] - 15s 471us/sample - loss: 0.0180 - accuracy: 0.9946 - val_loss: 0.1371 - val_accuracy: 0.9833\n",
      "Epoch 46/50\n",
      "31368/31368 [==============================] - 17s 532us/sample - loss: 0.0057 - accuracy: 0.9985 - val_loss: 0.1401 - val_accuracy: 0.9838\n",
      "Epoch 47/50\n",
      "31368/31368 [==============================] - 17s 539us/sample - loss: 0.0545 - accuracy: 0.9873 - val_loss: 0.3502 - val_accuracy: 0.9614\n",
      "Epoch 48/50\n",
      "31368/31368 [==============================] - 16s 501us/sample - loss: 0.0358 - accuracy: 0.9912 - val_loss: 0.1584 - val_accuracy: 0.9809\n",
      "Epoch 49/50\n",
      "31368/31368 [==============================] - 18s 569us/sample - loss: 0.0244 - accuracy: 0.9945 - val_loss: 0.1661 - val_accuracy: 0.9791\n",
      "Epoch 50/50\n",
      "31368/31368 [==============================] - 18s 570us/sample - loss: 0.0129 - accuracy: 0.9961 - val_loss: 0.1520 - val_accuracy: 0.9790\n"
     ]
    }
   ],
   "source": [
    "history = model.fit(x_train, y_train,\n",
    "          batch_size=BATCH_SIZE,\n",
    "          epochs=EPOCHS,\n",
    "          verbose=1,\n",
    "          validation_data=(x_cv, y_cv))"
   ]
  },
  {
   "cell_type": "code",
   "execution_count": 25,
   "metadata": {},
   "outputs": [
    {
     "name": "stdout",
     "output_type": "stream",
     "text": [
      "12630/12630 [==============================] - 2s 187us/sample - loss: 1.0838 - accuracy: 0.9094\n",
      "Test loss: 1.083765682089823\n",
      "Test accuracy: 0.90942204\n"
     ]
    }
   ],
   "source": [
    "y_predictions = model.predict_classes(x_test)\n",
    "\n",
    "score = model.evaluate(x_test, y_test, verbose=1)\n",
    "print('Test loss:', score[0])\n",
    "print('Test accuracy:', score[1])"
   ]
  },
  {
   "cell_type": "markdown",
   "metadata": {},
   "source": [
    "## Graphs"
   ]
  },
  {
   "cell_type": "markdown",
   "metadata": {},
   "source": [
    "### Confusion Matrix"
   ]
  },
  {
   "cell_type": "code",
   "execution_count": 224,
   "metadata": {},
   "outputs": [],
   "source": [
    "def create_confusion_matrices(y_test, y_predictions):\n",
    "    #Absolute matrix (number of guesses)\n",
    "    conf_mat_abs = confusion_matrix(np.argmax(y_test, axis=1), y_predictions)\n",
    "\n",
    "    #Relative matrix (normalized number of guesses (0-1))\n",
    "    conf_mat_rel = conf_mat_abs.astype('float') / conf_mat_abs.sum(axis=1)[:, np.newaxis]\n",
    "    \n",
    "    return conf_mat_abs, conf_mat_rel"
   ]
  },
  {
   "cell_type": "markdown",
   "metadata": {},
   "source": [
    "### Confusion Matrix Visualized"
   ]
  },
  {
   "cell_type": "code",
   "execution_count": 316,
   "metadata": {},
   "outputs": [],
   "source": [
    "def plot_confusion(conf_matrix, title):\n",
    "    df_cm = pd.DataFrame(conf_matrix, index = [i for i in range(43)],\n",
    "                      columns = [i for i in range(43)])\n",
    "    plt.figure(figsize = (22,22))\n",
    "    \n",
    "    ax = sn.heatmap(df_cm, annot=False)\n",
    "    \n",
    "    plt.ylabel('Actual Class', fontsize=15)\n",
    "    plt.xlabel(\"Guessed Class\", fontsize=15)\n",
    "    \n",
    "    ax.collections[0].colorbar.set_label(\"Probability of Guess (%)\", fontsize=15)\n",
    "    plt.title(title,fontsize=18)\n",
    "\n",
    "    plt.show()"
   ]
  },
  {
   "cell_type": "markdown",
   "metadata": {},
   "source": [
    "### Histogram of Accuracy per Class"
   ]
  },
  {
   "cell_type": "code",
   "execution_count": 310,
   "metadata": {},
   "outputs": [],
   "source": [
    "def plot_acc_per_class(conf_mat):\n",
    "    plt.figure(figsize = (7.25,6))\n",
    "    plt.bar(range(0,43), [conf_mat_rel[i][i] for i in range(43)], color=\"#e33641\")\n",
    "    plt.xlabel('Class',fontsize=12)\n",
    "    plt.ylabel('Accuracy of guess (%)',fontsize=12)\n",
    "    plt.title('Accuracy of model per class',fontsize=15)\n",
    "    plt.show()"
   ]
  },
  {
   "cell_type": "markdown",
   "metadata": {},
   "source": [
    "### Histogram of CV Distribution"
   ]
  },
  {
   "cell_type": "code",
   "execution_count": 278,
   "metadata": {},
   "outputs": [],
   "source": [
    "def plot_cv_per_class(y_cv, y_train):\n",
    "    plt.figure(figsize = (20,7))\n",
    "    \n",
    "    plt.subplot(1,2,1)\n",
    "    plt.hist(np.argmax(y_cv, axis=1), bins = range(0,43), color=\"#e33641\")\n",
    "    plt.xlabel('Class',fontsize=12)\n",
    "    plt.ylabel('# of elements in set',fontsize=12)\n",
    "    plt.title('Distribution of elements per class in the CV Set',fontsize=15)\n",
    "    \n",
    "    plt.subplot(1,2,2)\n",
    "    plt.hist(np.argmax(y_train, axis=1), bins = range(0,43), color=\"#731f58\")\n",
    "    plt.xlabel('Class',fontsize=12)\n",
    "    plt.ylabel('# of elements in set',fontsize=12)\n",
    "    plt.title('Distribution of elements per class in the Train Set',fontsize=15)\n",
    "\n",
    "\n",
    "    plt.show()"
   ]
  },
  {
   "cell_type": "markdown",
   "metadata": {},
   "source": [
    "## Discussion of Results\n"
   ]
  },
  {
   "cell_type": "markdown",
   "metadata": {},
   "source": [
    "### 1 - RGB"
   ]
  },
  {
   "cell_type": "markdown",
   "metadata": {},
   "source": [
    "#### Conf Mat"
   ]
  },
  {
   "cell_type": "code",
   "execution_count": 318,
   "metadata": {},
   "outputs": [
    {
     "name": "stdout",
     "output_type": "stream",
     "text": [
      "[[ 38  12   0 ...   0   0   0]\n",
      " [  0 678  21 ...   0   0   0]\n",
      " [  0   7 702 ...   0   0   0]\n",
      " ...\n",
      " [  0   1   0 ...  78   0   0]\n",
      " [  0   0   0 ...   0  47   0]\n",
      " [  0   0   0 ...   0   4  78]]\n"
     ]
    },
    {
     "data": {
      "image/png": "[encoded data removed]",
      "text/plain": [
       "<Figure size 1584x1584 with 2 Axes>"
      ]
     },
     "metadata": {
      "needs_background": "light"
     },
     "output_type": "display_data"
    }
   ],
   "source": [
    "conf_mat_abs, conf_mat_rel = create_confusion_matrices(y_test, y_predictions)\n",
    "\n",
    "print(conf_mat_abs)\n",
    "plot_confusion(conf_mat_rel, \"Relative Confusion Matrix Heatmap\")"
   ]
  },
  {
   "cell_type": "markdown",
   "metadata": {},
   "source": [
    "#### Accuracy per class"
   ]
  },
  {
   "cell_type": "code",
   "execution_count": 311,
   "metadata": {},
   "outputs": [
    {
     "data": {
      "image/png": "[encoded data removed]",
      "text/plain": [
       "<Figure size 522x432 with 1 Axes>"
      ]
     },
     "metadata": {
      "needs_background": "light"
     },
     "output_type": "display_data"
    }
   ],
   "source": [
    "plot_acc_per_class(conf_mat_rel)"
   ]
  },
  {
   "cell_type": "markdown",
   "metadata": {},
   "source": [
    "### 2 - CV\n",
    "We noticed that when picking the CV set's elements just by getting 20% of the elements of the total training set we could cause our CV to contain little to no data from some classes, and too much from others. So we changed it in order to assure that our CV is constitued of 20% of each of the train set's classes' data.\n",
    "As a result, the graph representing the distribution of number of elements per class in each set should be more similar"
   ]
  },
  {
   "cell_type": "markdown",
   "metadata": {},
   "source": [
    "#### CV Class Distribution with Random"
   ]
  },
  {
   "cell_type": "code",
   "execution_count": 279,
   "metadata": {},
   "outputs": [
    {
     "data": {
      "image/png": "[encoded data removed]",
      "text/plain": [
       "<Figure size 1440x504 with 2 Axes>"
      ]
     },
     "metadata": {
      "needs_background": "light"
     },
     "output_type": "display_data"
    }
   ],
   "source": [
    "plot_cv_per_class(y_cv,y_train)"
   ]
  },
  {
   "cell_type": "markdown",
   "metadata": {},
   "source": [
    "#### CV Class Distribution with Equalization"
   ]
  },
  {
   "cell_type": "code",
   "execution_count": 324,
   "metadata": {},
   "outputs": [
    {
     "data": {
      "image/png": "[encoded data removed]",
      "text/plain": [
       "<Figure size 1440x504 with 2 Axes>"
      ]
     },
     "metadata": {
      "needs_background": "light"
     },
     "output_type": "display_data"
    }
   ],
   "source": [
    "plot_cv_per_class(y_cv,y_train)"
   ]
  },
  {
   "cell_type": "markdown",
   "metadata": {},
   "source": [
    "### 3 - Grayscale\n",
    "Depois decidimos normalizar"
   ]
  },
  {
   "cell_type": "markdown",
   "metadata": {},
   "source": [
    "### 4 - Normalize\n",
    "Depois decidimos normalizar"
   ]
  },
  {
   "cell_type": "markdown",
   "metadata": {},
   "source": [
    "### 5 - Contrast\n",
    "Depois decidimos alterar o contraste das imagens"
   ]
  },
  {
   "cell_type": "markdown",
   "metadata": {},
   "source": [
    "### 6 - Data Augmentation"
   ]
  },
  {
   "cell_type": "markdown",
   "metadata": {},
   "source": [
    "### 7 - Epochs\n"
   ]
  },
  {
   "cell_type": "markdown",
   "metadata": {},
   "source": [
    "### 8 - Optimizing Function\n"
   ]
  },
  {
   "cell_type": "markdown",
   "metadata": {},
   "source": [
    "### 9 - Loss Function\n"
   ]
  },
  {
   "cell_type": "markdown",
   "metadata": {},
   "source": [
    "### 10 - Learning Rate"
   ]
  },
  {
   "cell_type": "markdown",
   "metadata": {},
   "source": [
    "### 11 - Dropout"
   ]
  }
 ],
 "metadata": {
  "kernelspec": {
   "display_name": "Python 3",
   "language": "python",
   "name": "python3"
  },
  "language_info": {
   "codemirror_mode": {
    "name": "ipython",
    "version": 3
   },
   "file_extension": ".py",
   "mimetype": "text/x-python",
   "name": "python",
   "nbconvert_exporter": "python",
   "pygments_lexer": "ipython3",
   "version": "3.7.6"
  }
 },
 "nbformat": 4,
 "nbformat_minor": 2
}
